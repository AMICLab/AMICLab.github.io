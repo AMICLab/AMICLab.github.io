{
 "cells": [
  {
   "cell_type": "code",
   "id": "initial_id",
   "metadata": {
    "collapsed": true,
    "ExecuteTime": {
     "end_time": "2025-07-23T08:28:37.738273Z",
     "start_time": "2025-07-23T08:28:37.646113Z"
    }
   },
   "source": [
    "import os\n",
    "from PIL import Image\n",
    "\n",
    "# 设置图片文件夹路径\n",
    "input_folder = r'D:\\GitHub\\AMICLab.github.io\\news\\2025'  # 替换为你的图片文件夹路径\n",
    "output_folder = r'D:\\GitHub\\AMICLab.github.io\\news\\2025'  # 替换为保存调整大小后的图片的文件夹路径\n",
    "\n",
    "# 创建输出文件夹（如果不存在）\n",
    "if not os.path.exists(output_folder):\n",
    "    os.makedirs(output_folder)\n",
    "\n",
    "# 遍历文件夹中的图片\n",
    "for filename in os.listdir(input_folder):\n",
    "    if filename.lower().endswith(('.png', '.jpg', '.jpeg', '.bmp', '.gif','.webp')):\n",
    "        # 构造图片的完整路径\n",
    "        input_path = os.path.join(input_folder, filename)\n",
    "        output_path = os.path.join(output_folder, filename)\n",
    "\n",
    "        # 打开图片并调整大小\n",
    "        try:\n",
    "            with Image.open(input_path) as img:\n",
    "                img = img.resize((161, 143))  # 调整为161x143大小\n",
    "                img.save(output_path)  # 保存调整大小后的图片\n",
    "            print(f\"处理并保存图片：{filename}\")\n",
    "        except Exception as e:\n",
    "            print(f\"处理图片 {filename} 时出错：{e}\")\n",
    "\n",
    "print(\"所有图片处理完成！\")"
   ],
   "outputs": [
    {
     "name": "stdout",
     "output_type": "stream",
     "text": [
      "处理并保存图片：news_team_20250117.webp\n",
      "处理并保存图片：news_team_20250228.webp\n",
      "处理并保存图片：news_team_20250301.webp\n",
      "处理并保存图片：news_team_20250323.png\n",
      "处理并保存图片：news_team_20250327.png\n",
      "处理并保存图片：news_team_20250430.png\n",
      "处理并保存图片：news_team_20250530.jpg\n",
      "处理并保存图片：news_team_20250627.jpg\n",
      "处理图片 news_team_20250704.jpg 时出错：cannot identify image file 'D:\\\\GitHub\\\\AMICLab.github.io\\\\news\\\\2025\\\\news_team_20250704.jpg'\n",
      "处理并保存图片：news_team_20250723.png\n",
      "所有图片处理完成！\n"
     ]
    }
   ],
   "execution_count": 3
  },
  {
   "metadata": {},
   "cell_type": "code",
   "outputs": [],
   "execution_count": null,
   "source": "",
   "id": "bbd536fa1a24c70a"
  }
 ],
 "metadata": {
  "kernelspec": {
   "display_name": "Python 3",
   "language": "python",
   "name": "python3"
  },
  "language_info": {
   "codemirror_mode": {
    "name": "ipython",
    "version": 2
   },
   "file_extension": ".py",
   "mimetype": "text/x-python",
   "name": "python",
   "nbconvert_exporter": "python",
   "pygments_lexer": "ipython2",
   "version": "2.7.6"
  }
 },
 "nbformat": 4,
 "nbformat_minor": 5
}
